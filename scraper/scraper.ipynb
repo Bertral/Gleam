{
 "cells": [
  {
   "cell_type": "markdown",
   "metadata": {},
   "source": [
    "## Scraper\n",
    "This script downloads a bunch of tiles from [NASA's GIBS API](https://wiki.earthdata.nasa.gov/display/GIBS/GIBS+API+for+Developers) and concatenates them to create yearly global PNG images. Since PNG files contain no geographical data, they serve no purpose for the rest of this project."
   ]
  },
  {
   "cell_type": "code",
   "execution_count": null,
   "metadata": {},
   "outputs": [],
   "source": [
    "import concatenator\n",
    "import scraper\n",
    "\n",
    "zoom = 6  # on a scale of 0 to 7 (1km/pixel : 6)\n",
    "years = [\"2012\", \"2016\"]  # 2012 or 2016 or both\n",
    "\n",
    "for year in years:\n",
    "    folder_name = \"tiles_\" + str(year) + \"_zoom\" + str(zoom)\n",
    "    scraper.scrape(year, zoom, folder_name)\n",
    "    concatenator.concat(folder_name)\n"
   ]
  }
 ],
 "metadata": {
  "kernelspec": {
   "display_name": "Python 3",
   "language": "python",
   "name": "python3"
  },
  "language_info": {
   "codemirror_mode": {
    "name": "ipython",
    "version": 3
   },
   "file_extension": ".py",
   "mimetype": "text/x-python",
   "name": "python",
   "nbconvert_exporter": "python",
   "pygments_lexer": "ipython3",
   "version": "3.6.5"
  }
 },
 "nbformat": 4,
 "nbformat_minor": 2
}
