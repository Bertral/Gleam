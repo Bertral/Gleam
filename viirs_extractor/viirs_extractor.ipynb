{
 "cells": [
  {
   "cell_type": "code",
   "execution_count": null,
   "metadata": {},
   "outputs": [],
   "source": [
    "import os\n",
    "import tarfile\n",
    "import rasterio\n",
    "import numpy as np"
   ]
  },
  {
   "cell_type": "markdown",
   "metadata": {},
   "source": [
    "# VIIRS tiles extraction\n",
    "This script extracts the cloud free tiles of high resolution satellite images contained in the archives to be downloaded from [Version 1 VIIRS Day/Night Band Nighttime Lights](https://ngdc.noaa.gov/eog/viirs/download_dnb_composites.html).\n",
    "\n",
    "The process can take a while. You should let it run overnight if you need to extract every tile available on the NOAA website."
   ]
  },
  {
   "cell_type": "code",
   "execution_count": 1,
   "metadata": {},
   "outputs": [
    {
     "name": "stdout",
     "output_type": "stream",
     "text": [
      "fetched list of files to extract\n",
      "done !\n"
     ]
    }
   ],
   "source": [
    "# This is the directory where the archives need to be :\n",
    "archives_dir = '../data/lightrasters_noaa/monthly/'\n",
    "\n",
    "archnames = os.listdir(archives_dir)\n",
    "\n",
    "print('fetched list of files to extract')\n",
    "\n",
    "for archname in archnames:\n",
    "    if archname.endswith('.tgz') and archname + '.part' not in archnames:\n",
    "        success = False\n",
    "        with tarfile.open(archives_dir + archname, \"r\") as tar:\n",
    "            for member in tar.getmembers():\n",
    "                filename = os.path.basename(member.name)\n",
    "                if filename.endswith(\"avg_rade9h.tif\") or filename.find('orm_') is not -1:\n",
    "                    tar.extract(member, archives_dir)\n",
    "                    print('extracted : ' + filename)\n",
    "                    success = True\n",
    "                    break\n",
    "        if not success:\n",
    "            print('failed to locate [...]avg_rade9h.tif or [...]orm_[...] in archive ' + archname)\n",
    "\n",
    "print('done !')"
   ]
  },
  {
   "cell_type": "markdown",
   "metadata": {},
   "source": [
    "# Combine monthly tiles into yearly tiles\n",
    "Since every yearly average isn't available on [Version 1 VIIRS Day/Night Band Nighttime Lights](https://ngdc.noaa.gov/eog/viirs/download_dnb_composites.html), but monthly tiles are, we need to make the average ourselves. Every month, some pixels have a value of 0 because there were no observation without clouds. To avoid taking into account those outliers we'll take the median of each pixel over every month of a year instead of the average. It's not perfect, but good enough.\n",
    "\n",
    "Again, this process is very slow."
   ]
  },
  {
   "cell_type": "code",
   "execution_count": null,
   "metadata": {},
   "outputs": [],
   "source": [
    "## PARAMETERS ##\n",
    "# input directory (contains the monthly tiles)\n",
    "monthly_dir = '../data/lightrasters_noaa/monthly/'\n",
    "\n",
    "# output directory\n",
    "yearly_dir = '../data/lightrasters_noaa/'\n",
    "\n",
    "# width (and height) of the window : decrease it if you don't have enough memory available\n",
    "window_size = 7500\n",
    "################\n",
    "\n",
    "output_files = {}\n",
    "\n",
    "for filename in os.listdir(monthly_dir):\n",
    "    if filename.endswith('.tif'):\n",
    "        # get year and region of the observation\n",
    "        year = filename[filename.find('-') + 1: filename.find('-') + 5]\n",
    "        region = filename[filename.find('-') + 10: filename.find('-') + 17]\n",
    "\n",
    "        if (year, region) not in output_files:\n",
    "            output_files[(year, region)] = []\n",
    "        # group files by same year and region\n",
    "        output_files[(year, region)].append(filename)\n",
    "\n",
    "print('fetched file names')\n",
    "\n",
    "# iterate over windows of every raster of the same region/year to compute their median pixels\n",
    "for (year, region), input_files in output_files.items():\n",
    "    # get the metadat to be used for the output file (same as input)\n",
    "    reference = rasterio.open(monthly_dir + input_files[0])\n",
    "    profile = reference.profile\n",
    "    dimensions = (reference.height, reference.width)\n",
    "    reference.close()\n",
    "\n",
    "    # initialize matrix for the output file\n",
    "    raster = np.zeros(dimensions)\n",
    "\n",
    "    y_offset = 0\n",
    "    while y_offset < dimensions[1]:\n",
    "        x_offset = 0\n",
    "        while x_offset < dimensions[0]:\n",
    "            windows = []\n",
    "            for input_file in input_files:\n",
    "                with rasterio.open(monthly_dir + input_file) as src:\n",
    "                    windows.append(src.read(1, window=((x_offset, x_offset + window_size),\n",
    "                                                       (y_offset, y_offset + window_size))))\n",
    "\n",
    "            # compute mediant for each point between windows, store result to raster\n",
    "            raster[x_offset: x_offset + window_size, y_offset: y_offset + window_size] = np.median(windows, axis=0)\n",
    "            x_offset += window_size\n",
    "        y_offset += window_size\n",
    "\n",
    "    # write to output file\n",
    "    with rasterio.open(yearly_dir + year + '_' + region + '.tif', 'w', **profile) as dst:\n",
    "        dst.write(raster.astype(rasterio.float32), 1)\n",
    "\n",
    "    print('generated ' + year + '_' + region + '.tif')\n",
    "\n",
    "print('done !')\n"
   ]
  }
 ],
 "metadata": {
  "kernelspec": {
   "display_name": "Python 3",
   "language": "python",
   "name": "python3"
  },
  "language_info": {
   "codemirror_mode": {
    "name": "ipython",
    "version": 3
   },
   "file_extension": ".py",
   "mimetype": "text/x-python",
   "name": "python",
   "nbconvert_exporter": "python",
   "pygments_lexer": "ipython3",
   "version": "3.6.5"
  }
 },
 "nbformat": 4,
 "nbformat_minor": 2
}
