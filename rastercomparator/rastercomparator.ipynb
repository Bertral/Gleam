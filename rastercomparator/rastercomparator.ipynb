{
 "cells": [
  {
   "cell_type": "code",
   "execution_count": 3,
   "metadata": {},
   "outputs": [],
   "source": [
    "import rasterio\n",
    "import numpy as np\n",
    "import matplotlib.pyplot as plt"
   ]
  },
  {
   "attachments": {
    "2015_brazil.png": {
     "image/png": "[encoded data removed]"
    }
   },
   "cell_type": "markdown",
   "metadata": {},
   "source": [
    "# Scatter\n",
    "This script takes a 2-bands raster and plots its pixels as a scatter plots. This was only useful to realise that it's mostly impossible to guess the value of a pixel in the second band (population) from just the value of the same single pixel in the first band (nightlights).\n",
    "\n",
    "Here's the expected result for Brazil in 2015 :\n",
    "![2015_brazil.png](attachment:2015_brazil.png)"
   ]
  },
  {
   "cell_type": "code",
   "execution_count": 10,
   "metadata": {},
   "outputs": [
    {
     "name": "stdout",
     "output_type": "stream",
     "text": [
      "plots done !\n"
     ]
    }
   ],
   "source": [
    "## PARAMETERS ##\n",
    "logscale = False # might need too much free memory if using a big raster\n",
    "source = '../data/lightpop_merged/adj_2015_brazil.tif'\n",
    "oputput_name = '2015_brazil'\n",
    "################\n",
    "\n",
    "valuesX = []\n",
    "valuesY = []\n",
    "\n",
    "raster = rasterio.open(source)\n",
    "valuesX = raster.read(1)\n",
    "valuesY = raster.read(2)\n",
    "    \n",
    "fig = plt.figure()\n",
    "ax1 = plt.subplot(1, 1, 1)\n",
    "\n",
    "if logscale:\n",
    "    plt.xscale('log')\n",
    "    plt.yscale('log')\n",
    "ax1.scatter(valuesX, valuesY, alpha=0.01)\n",
    "ax1.set(xlabel='Light from space', ylabel='Population')\n",
    "ax1.grid()\n",
    "\n",
    "if logscale:\n",
    "    fig.savefig(\"scatters/\" + oputput_name + \"_logscale.png\")\n",
    "else:\n",
    "    fig.savefig(\"scatters/\" + oputput_name + \".png\")\n",
    "\n",
    "valuesX, valuesY = None, None\n",
    "raster.close()\n",
    "plt.close(fig)\n",
    "\n",
    "print('plots done !')\n"
   ]
  },
  {
   "cell_type": "markdown",
   "metadata": {},
   "source": [
    "# Diff\n",
    "This script computes the pixel-by-pixel difference between two rasters (dataset2 minus dataset1) and saves the result in a new raster (out). The input rasters must have the same boundaries."
   ]
  },
  {
   "cell_type": "code",
   "execution_count": 30,
   "metadata": {},
   "outputs": [
    {
     "name": "stdout",
     "output_type": "stream",
     "text": [
      "opening rasters\n",
      "generating raster\n",
      "Pearson correlation : [[1.        0.8589399]\n",
      " [0.8589399 1.       ]]\n",
      "done !\n"
     ]
    }
   ],
   "source": [
    "## PARAMETERS ##\n",
    "dataset1 = '../data/lightrasters_noaa/2013_colombia.tif'\n",
    "band1 = 1\n",
    "\n",
    "dataset2 = '../data/lightrasters_noaa/2017_colombia.tif'\n",
    "band2 = 1\n",
    "\n",
    "out = '2013-2017_colombia.tif'\n",
    "################\n",
    "\n",
    "print('opening rasters')\n",
    "\n",
    "raster1 = rasterio.open(dataset1)\n",
    "raster2 = rasterio.open(dataset2)\n",
    "\n",
    "print('generating raster')\n",
    "\n",
    "raster3 = raster2.read(band2) - raster1.read(band1)\n",
    "\n",
    "profile = raster1.profile\n",
    "profile.update(count=1)\n",
    "\n",
    "with rasterio.open('diffs' + out, 'w', **profile) as dst:\n",
    "    dst.write(raster3.astype(rasterio.float32), 1)\n",
    "raster1.close()\n",
    "raster2.close()\n",
    "raster3 = None\n",
    "print('done !')\n"
   ]
  },
  {
   "cell_type": "markdown",
   "metadata": {},
   "source": [
    "# Stats\n",
    "This script computes the Pearson correlation coefficient between two rasters, as well as a few helpful statistics to compare a prediction with a validation dataset or another prediction, pixel by pixel.\n",
    "\n",
    "The input rasters must have the same boundaries."
   ]
  },
  {
   "cell_type": "code",
   "execution_count": 8,
   "metadata": {},
   "outputs": [
    {
     "name": "stdout",
     "output_type": "stream",
     "text": [
      "opening rasters\n",
      "Pearson correlation : 0.7499682639089719\n",
      "Sum of values : 204777100.0, 272478200.0\n",
      "Sum increase : 67701100.0 (33.060875790098095 %)\n",
      "done !\n"
     ]
    }
   ],
   "source": [
    "## PARAMETERS ##\n",
    "dataset1 = '../data/lightpop_merged/adj_2015_brazil.tif'\n",
    "band1 = 2\n",
    "\n",
    "dataset2 = '../gleam/predictions/2015_brazil_to_2017_brazil.tif'\n",
    "band2 = 1\n",
    "################\n",
    "\n",
    "print('opening rasters')\n",
    "\n",
    "raster1 = rasterio.open(dataset1)\n",
    "raster2 = rasterio.open(dataset2)\n",
    "\n",
    "sum1 = np.sum(raster1.read(band1))\n",
    "sum2 = np.sum(raster2.read(band2))\n",
    "\n",
    "print('Pearson correlation : ' + str(np.corrcoef(raster1.read(band1).flatten(), raster2.read(band2).flatten())[0, 1]))\n",
    "print('Sum of values : ' + str(sum1) + ', ' + str(sum2))\n",
    "print('Sum increase : ' + str(sum2 - sum1) + ' (' + str(100*(sum2 - sum1)/sum1) + ' %)')\n",
    "\n",
    "raster1.close()\n",
    "raster2.close()\n",
    "print('done !')"
   ]
  }
 ],
 "metadata": {
  "kernelspec": {
   "display_name": "Python 3",
   "language": "python",
   "name": "python3"
  },
  "language_info": {
   "codemirror_mode": {
    "name": "ipython",
    "version": 3
   },
   "file_extension": ".py",
   "mimetype": "text/x-python",
   "name": "python",
   "nbconvert_exporter": "python",
   "pygments_lexer": "ipython3",
   "version": "3.6.5"
  }
 },
 "nbformat": 4,
 "nbformat_minor": 2
}
